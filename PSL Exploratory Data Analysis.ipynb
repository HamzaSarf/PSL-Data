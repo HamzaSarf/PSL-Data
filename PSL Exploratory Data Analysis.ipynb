{
    "cells": [
        {
            "cell_type": "markdown",
            "metadata": {},
            "source": [
                "---\n",
                "\n",
                "# Pakistan Super League Exploratory Data Analysis\n"
            ]
        },
        {
            "cell_type": "code",
            "execution_count": null,
            "metadata": {},
            "outputs": [],
            "source": [
                "knitr::opts_chunk$set(echo = TRUE)\n",
                "\n"
            ]
        },
        {
            "cell_type": "markdown",
            "metadata": {},
            "source": [
                "For the purpose of this exercise, we'll deploy the very handy cricketdata package developed by Rob J Hyndman, which gathers data from cricsheet and cricinfo.\n",
                "\n"
            ]
        },
        {
            "cell_type": "code",
            "execution_count": null,
            "metadata": {},
            "outputs": [],
            "source": [
                "library(tidyverse)\n",
                "library(cricketdata)\n",
                "library(dplyr)\n",
                "library(ggplot2)\n",
                "library(plotly)\n"
            ]
        },
        {
            "cell_type": "markdown",
            "metadata": {},
            "source": [
                "## Loading Ball by Ball and Match Data for PSL 2016-Present from Cricsheet\n",
                "\n"
            ]
        },
        {
            "cell_type": "code",
            "execution_count": null,
            "metadata": {},
            "outputs": [],
            "source": [
                "PSL_Ball <- fetch_cricsheet(competition = \"psl\", gender = \"male\")\n",
                "\n",
                "PSL_Match <- fetch_cricsheet(\"match\", \"psl\", gender = \"male\")\n",
                "\n",
                "PSL_Player <- fetch_cricsheet(\"player\", \"psl\", gender = \"male\")\n"
            ]
        },
        {
            "cell_type": "markdown",
            "metadata": {},
            "source": [
                "## Understanding the Structure\n",
                "\n"
            ]
        },
        {
            "cell_type": "code",
            "execution_count": null,
            "metadata": {},
            "outputs": [],
            "source": [
                "str(PSL_Ball)\n",
                "str(PSL_Match)\n",
                "str(PSL_Player)\n"
            ]
        },
        {
            "cell_type": "markdown",
            "metadata": {},
            "source": "\n"
        },
        {
            "cell_type": "code",
            "execution_count": null,
            "metadata": {},
            "outputs": [],
            "source": [
                "summary(PSL_Ball)\n",
                "summary(PSL_Match)\n",
                "summary(PSL_Player)\n"
            ]
        },
        {
            "cell_type": "markdown",
            "metadata": {},
            "source": "\n"
        },
        {
            "cell_type": "code",
            "execution_count": null,
            "metadata": {},
            "outputs": [],
            "source": [
                "sum(is.na(PSL_Ball))\n",
                "sum(is.na(PSL_Ball))\n",
                "sum(is.na(PSL_Ball))\n"
            ]
        },
        {
            "cell_type": "markdown",
            "metadata": {},
            "source": [
                "## Merging Match and Ball-by-Ball Data\n",
                "\n"
            ]
        },
        {
            "cell_type": "code",
            "execution_count": null,
            "metadata": {},
            "outputs": [],
            "source": [
                "PSL_Ball$match_id <- as.character(PSL_Ball$match_id)\n",
                "PSL_Match$match_id <- as.character(PSL_Match$match_id)\n",
                "Merged_Data <- merge(PSL_Match, PSL_Ball, by = \"match_id\")\n"
            ]
        },
        {
            "cell_type": "markdown",
            "metadata": {},
            "source": "\n"
        },
        {
            "cell_type": "code",
            "execution_count": null,
            "metadata": {},
            "outputs": [],
            "source": [
                "library(dplyr)\n",
                "Merged_Data <- Merged_Data |>\n",
                "  mutate(season.x = ifelse(season.x %in% c(\"2020/21\", \"2021\"), \"2020/21\", season.x))\n"
            ]
        },
        {
            "cell_type": "markdown",
            "metadata": {},
            "source": [
                "## Summary Statistics\n",
                "\n"
            ]
        },
        {
            "cell_type": "code",
            "execution_count": null,
            "metadata": {},
            "outputs": [],
            "source": [
                "# Distribution of runs in Ball by Ball Data\n",
                "ggplot(Merged_Data, aes(x = runs_off_bat + extras)) +\n",
                "  geom_histogram(aes(y = after_stat(count) / sum(after_stat(count))), binwidth = 1, fill = \"lightblue\", color = \"black\") +\n",
                "  scale_y_continuous(labels = scales::percent, name = \"Percentage of Total Runs\") +\n",
                "  labs(title = \"Distribution of Runs\", x = \"Runs\") +\n",
                "  theme_minimal()\n"
            ]
        },
        {
            "cell_type": "markdown",
            "metadata": {},
            "source": "\n"
        },
        {
            "cell_type": "code",
            "execution_count": null,
            "metadata": {},
            "outputs": [],
            "source": [
                "# Filter for powerplay\n",
                "powerplay <- Merged_Data |>\n",
                "  filter((over >= 1 & over <= 6)) \n",
                "\n",
                "# Plot histogram of runs off bat during powerplay\n",
                "ggplot(powerplay, aes(x = runs_off_bat)) +\n",
                "  geom_histogram(aes(y = after_stat(count) / sum(after_stat(count))), binwidth = 1, fill = \"lightblue\", color = \"black\") +\n",
                "  scale_y_continuous(labels = scales::percent, name = \"Percentage of Total Runs\") +\n",
                "  labs(title = \"Distribution of Runs in Powerplay\", x = \"Runs\") +\n",
                "  theme_minimal()\n"
            ]
        },
        {
            "cell_type": "markdown",
            "metadata": {},
            "source": "\n"
        },
        {
            "cell_type": "code",
            "execution_count": null,
            "metadata": {},
            "outputs": [],
            "source": [
                "# Filter for death overs\n",
                "death_overs <- Merged_Data |>\n",
                "  filter((over >= 16 & over <= 20)) \n",
                "\n",
                "# Plot histogram of runs off bat during death overs\n",
                "ggplot(death_overs, aes(x = runs_off_bat + extras)) +\n",
                "  geom_histogram(aes(y = after_stat(count) / sum(after_stat(count))), binwidth = 1, fill = \"lightblue\", color = \"black\") +\n",
                "  scale_y_continuous(labels = scales::percent, name = \"Percentage of Total Runs\") +\n",
                "  labs(title = \"Distribution of Runs in Death Overs (16-20)\", x = \"Runs\") +\n",
                "  theme_minimal()\n"
            ]
        },
        {
            "cell_type": "markdown",
            "metadata": {},
            "source": "\n"
        },
        {
            "cell_type": "code",
            "execution_count": null,
            "metadata": {},
            "outputs": [],
            "source": [
                "Total_Runs_Season <- Merged_Data |>\n",
                "  group_by(season.x) |>\n",
                "  summarise(Total_Runs = sum(runs_off_bat + extras))\n",
                "\n",
                "ggplot(Total_Runs_Season, aes(x = season.x, y = Total_Runs, fill = season.x)) +\n",
                "  geom_bar(stat = \"identity\", show.legend = FALSE) +\n",
                "  labs(title = \"Total Runs Scored in Each Season\", x = \"Season\", y = \"Total Runs\") +\n",
                "  theme_minimal() \n"
            ]
        },
        {
            "cell_type": "markdown",
            "metadata": {},
            "source": "\n"
        },
        {
            "cell_type": "code",
            "execution_count": null,
            "metadata": {},
            "outputs": [],
            "source": [
                "Avg_Runs_Per_Match_Season <- Merged_Data |>\n",
                "  group_by(season.x, match_id, innings) |>\n",
                "  summarise(Total_Runs = sum(runs_off_bat + extras), .groups = 'drop') |>\n",
                "  group_by(season.x) |>\n",
                "  summarise(Avg_Runs_Per_Match = mean(Total_Runs))\n",
                "\n",
                "ggplot(Avg_Runs_Per_Match_Season, aes(x = season.x, y = Avg_Runs_Per_Match, fill = season.x)) +\n",
                "  geom_bar(stat = \"identity\", show.legend = FALSE) +\n",
                "  labs(title = \"Average Runs Scored Per Innings by Season\", x = \"Season\", y = \"Average Runs Per Match\") +\n",
                "  theme_minimal()\n"
            ]
        },
        {
            "cell_type": "markdown",
            "metadata": {},
            "source": "\n"
        },
        {
            "cell_type": "code",
            "execution_count": null,
            "metadata": {},
            "outputs": [],
            "source": [
                "Average_Run_Rate <- Merged_Data |>\n",
                "  group_by(season.x, over) |> \n",
                "  summarise(\n",
                "    Total_Runs = sum(runs_off_bat + extras, na.rm = TRUE),  # Calculate total runs\n",
                "    Total_Balls = n(),  # Count total deliveries (rows)\n",
                "    Total_Overs = Total_Balls / 6.0,  # Convert balls to overs\n",
                "    Avg_Run_Rate = Total_Runs / Total_Overs, #Calculate Average Run Rate\n",
                "    .groups = 'drop'\n",
                "  ) \n",
                "\n",
                "# Step 4: Visualize the average run rate per over for each season\n",
                "ggplot(Average_Run_Rate, aes(x = over, y = Avg_Run_Rate)) +\n",
                "  geom_line(size = 1) +  \n",
                "  facet_wrap(~season.x, scales = \"free_y\") + # Creates a separate plot for each season\n",
                "  labs(title = \"Average Run Rate by Season\", x = \"Over\", y = \"Average Run Rate\") +\n",
                "  theme_minimal() +\n",
                "  theme(legend.position = \"bottom\")\n"
            ]
        },
        {
            "cell_type": "markdown",
            "metadata": {},
            "source": "\n"
        },
        {
            "cell_type": "code",
            "execution_count": null,
            "metadata": {},
            "outputs": [],
            "source": [
                "Top_Batsmen <- Merged_Data |>\n",
                "  group_by(season.x, striker) |>\n",
                "  summarise(Total_Runs = sum(runs_off_bat, na.rm = TRUE), .groups = 'drop') |>\n",
                "  group_by(season.x) |>\n",
                "  slice_max(order_by = Total_Runs, n = 3) |> \n",
                "  ungroup()\n",
                "ggplot(Top_Batsmen, aes(x = reorder(striker, Total_Runs), y = Total_Runs, fill = season.x)) +\n",
                "  geom_bar(stat = \"identity\") +\n",
                "  coord_flip() +\n",
                "  labs(title = \"Top 3 Batsmen by Runs Scored Each Season\", x = \"Batsman\", y = \"Total Runs\") +\n",
                "  theme_minimal() +\n",
                "  theme(legend.position = \"none\") +\n",
                "  facet_wrap(~ season.x, scales = \"free_y\", ncol = 2)\n"
            ]
        },
        {
            "cell_type": "markdown",
            "metadata": {},
            "source": "\n"
        },
        {
            "cell_type": "code",
            "execution_count": null,
            "metadata": {},
            "outputs": [],
            "source": [
                "Top_Bowlers <- Merged_Data |>\n",
                "  group_by(season.x, bowler) |>\n",
                "  summarise(Total_Wickets = sum(as.numeric(wicket), na.rm = TRUE), .groups = 'drop_last') |>\n",
                "  slice_max(order_by = Total_Wickets, n = 3, with_ties = FALSE) |>\n",
                "  ungroup()\n",
                "\n",
                "ggplot(Top_Bowlers, aes(x = bowler, y = Total_Wickets, fill = season.x)) +\n",
                "  geom_col() +\n",
                "  coord_flip() +\n",
                "  labs(title = \"Top 3 Bowlers by Wickets Taken Each Season\", x = \"Bowler\", y = \"Total Wickets\") +\n",
                "  theme_minimal() +\n",
                "  theme(legend.position = \"None\") +\n",
                "  facet_wrap(~ season.x, scales = \"free_y\", ncol = 2)\n"
            ]
        },
        {
            "cell_type": "markdown",
            "metadata": {},
            "source": "\n"
        },
        {
            "cell_type": "code",
            "execution_count": null,
            "metadata": {},
            "outputs": [],
            "source": [
                "# Calculate total matches and wins per team per season\n",
                "team_stats <- Merged_Data |>\n",
                "  select(season.x, team1, team2, winner) |>\n",
                "  mutate(match_played = 1) |>\n",
                "  pivot_longer(cols = c(team1, team2), names_to = \"home_away\", values_to = \"team\") %>%\n",
                "  group_by(season.x, team) |>\n",
                "  summarise(Total_Matches = sum(match_played), Wins = sum(winner == team, na.rm = TRUE), .groups = 'drop') |>\n",
                "  ungroup()\n",
                "\n",
                "# Calculate win percentage\n",
                "team_stats <- team_stats |>\n",
                "  mutate(Win_Percentage = (Wins / Total_Matches) * 100)\n",
                "\n",
                "ggplot(team_stats, aes(x = season.x, y = Win_Percentage, fill = team)) +\n",
                "  geom_bar(stat = \"identity\", position = \"dodge\") +\n",
                "  labs(title = \"Team Win Percentage Across Seasons\", x = \"Season\", y = \"Win Percentage\") +\n",
                "  theme_minimal() +\n",
                "  theme(axis.text.x = element_text(angle = 45, hjust = 1), legend.position = \"bottom\") +\n",
                "  scale_y_continuous(labels = function(x) paste0(x, \"%\"))  \n"
            ]
        },
        {
            "cell_type": "markdown",
            "metadata": {},
            "source": "\n"
        },
        {
            "cell_type": "code",
            "execution_count": null,
            "metadata": {},
            "outputs": [],
            "source": [
                "boundary_balls <- Merged_Data |>\n",
                "  filter(runs_off_bat %in% c(4, 6)) |>\n",
                "  mutate(boundary = 1) # Mark boundary balls\n",
                "\n",
                "# Step 2: Calculate Boundary Ball Percentage\n",
                "boundary_percentage_by_season <- Merged_Data |>\n",
                "  group_by(season.x) |>\n",
                "  summarise(total_balls = n(), # Total number of deliveries\n",
                "            boundaries = sum(runs_off_bat %in% c(4, 6)), # Number of boundary balls\n",
                "            boundary_percentage = (boundaries / total_balls) * 100) # Calculate percentage\n",
                "\n",
                "# Step 3: Visualization\n",
                "ggplot(boundary_percentage_by_season, aes(x = season.x, y = boundary_percentage)) +\n",
                "  geom_col(fill = \"steelblue\") + # Bar plot\n",
                "  labs(title = \"Boundary Ball Percentage by Season\",\n",
                "       x = \"Season\",\n",
                "       y = \"Boundary Percentage\") +\n",
                "  theme_minimal() \n"
            ]
        },
        {
            "cell_type": "markdown",
            "metadata": {},
            "source": "\n"
        },
        {
            "cell_type": "code",
            "execution_count": null,
            "metadata": {},
            "outputs": [],
            "source": [
                "library(dplyr)\n",
                "\n",
                "# Assuming Merged_Data already contains ball-by-ball data along with match and team information\n",
                "# Calculate boundary ball percentage\n",
                "Run_Percentage <- Merged_Data %>%\n",
                "  mutate(boundary_ball = ifelse(runs_off_bat %in% c(4, 6), 1, 0),\n",
                "         dot_ball = ifelse(runs_off_bat == 0 & is.na(extras), 1, 0)) %>%\n",
                "  group_by(match_id, batting_team) %>%\n",
                "  summarise(total_boundaries = sum(boundary_ball),\n",
                "            total_dot_balls = sum(dot_ball),\n",
                "            total_balls = n(),\n",
                "            boundary_ball_percentage = (total_boundaries / total_balls) * 100,\n",
                "            dot_ball_percentage = (total_dot_balls / total_balls) * 100,\n",
                "            win = ifelse(batting_team == winner, 1, 0),\n",
                "            .groups = 'drop')\n",
                " Run_Percentage$dot_ball_percentage <- as.numeric(Run_Percentage$dot_ball_percentage)\n"
            ]
        },
        {
            "cell_type": "markdown",
            "metadata": {},
            "source": "\n"
        },
        {
            "cell_type": "code",
            "execution_count": null,
            "metadata": {},
            "outputs": [],
            "source": [
                "boundary_balls <- powerplay |>\n",
                "  filter(runs_off_bat %in% c(4, 6)) |>\n",
                "  mutate(boundary = 1) # Mark boundary balls\n",
                "\n",
                "# Step 2: Calculate Boundary Ball Percentage\n",
                "boundary_percentage_by_season <- powerplay |>\n",
                "  group_by(season.x) |>\n",
                "  summarise(total_balls = n(), # Total number of deliveries\n",
                "            boundaries = sum(runs_off_bat %in% c(4, 6)), # Number of boundary balls\n",
                "            boundary_percentage = (boundaries / total_balls) * 100) # Calculate percentage\n",
                "\n",
                "# Step 3: Visualization\n",
                "ggplot(boundary_percentage_by_season, aes(x = season.x\n",
                "                                          , y = boundary_percentage)) +\n",
                "  geom_col(fill = \"steelblue\") + # Bar plot\n",
                "  labs(title = \"Boundary Ball Percentage in Powerplay\",\n",
                "       x = \"Season\",\n",
                "       y = \"Boundary Percentage\") +\n",
                "  theme_minimal() \n"
            ]
        },
        {
            "cell_type": "markdown",
            "metadata": {},
            "source": "\n"
        },
        {
            "cell_type": "code",
            "execution_count": null,
            "metadata": {},
            "outputs": [],
            "source": [
                "boundary_balls <- death_overs |>\n",
                "  filter(runs_off_bat %in% c(4, 6)) |>\n",
                "  mutate(boundary = 1) # Mark boundary balls\n",
                "\n",
                "# Step 2: Calculate Boundary Ball Percentage\n",
                "boundary_percentage_by_season <- death_overs |>\n",
                "  group_by(season.x) |>\n",
                "  summarise(total_balls = n(), # Total number of deliveries\n",
                "            boundaries = sum(runs_off_bat %in% c(4, 6)), # Number of boundary balls\n",
                "            boundary_percentage = (boundaries / total_balls) * 100) # Calculate percentage\n",
                "\n",
                "# Step 3: Visualization\n",
                "ggplot(boundary_percentage_by_season, aes(x = season.x, y = boundary_percentage)) +\n",
                "  geom_col(fill = \"steelblue\") + # Bar plot\n",
                "  labs(title = \"Boundary Ball Percentage in Death Overs (16-20)\",\n",
                "       x = \"Season\",\n",
                "       y = \"Boundary Percentage\") +\n",
                "  theme_minimal() \n"
            ]
        },
        {
            "cell_type": "markdown",
            "metadata": {},
            "source": "\n"
        },
        {
            "cell_type": "code",
            "execution_count": null,
            "metadata": {},
            "outputs": [],
            "source": [
                "# Step 1: Prepare the data\n",
                "boundaries_per_innings <- Merged_Data |>\n",
                "  filter(runs_off_bat %in% c(4, 6)) |>\n",
                "  mutate(boundary_type = ifelse(runs_off_bat == 4, \"Fours\", \"Sixes\")) |>\n",
                "  group_by(season.x, match_id, innings, boundary_type) |>\n",
                "  summarise(total_boundaries = n(), .groups = 'drop') |>\n",
                "  group_by(season.x, boundary_type) |>\n",
                "  summarise(avg_boundaries_per_innings = mean(total_boundaries), .groups = 'drop')\n",
                "\n",
                "# Step 2: Visualize the data\n",
                "ggplot(boundaries_per_innings, aes(x = season.x, y = avg_boundaries_per_innings, color = boundary_type, group = boundary_type)) +\n",
                "  geom_line() +  # Line plot\n",
                "  geom_point() +  \n",
                "  scale_color_manual(values = c(\"Fours\" = \"blue\", \"Sixes\" = \"red\")) +  # Assign custom colors\n",
                "  labs(title = \"Fours and Sixes per Innings by Season\", x = \"Season\", y = \"Average Boundaries per Innings\") +\n",
                "  theme_minimal() +\n",
                "  theme(legend.title = element_blank())  # Remove the legend title\n"
            ]
        },
        {
            "cell_type": "markdown",
            "metadata": {},
            "source": "\n"
        },
        {
            "cell_type": "code",
            "execution_count": null,
            "metadata": {},
            "outputs": [],
            "source": [
                "dot_ball_percentage <- Merged_Data |>\n",
                "  mutate(is_dot_ball = ifelse(runs_off_bat == 0 & is.na(wides) & is.na(noballs), 1, 0)) |>\n",
                "  group_by(season.x) |>\n",
                "  summarise(\n",
                "    dot_balls = sum(is_dot_ball, na.rm = TRUE),\n",
                "    total_deliveries = n() + sum(!is.na(wides) | !is.na(noballs), na.rm = TRUE),\n",
                "    dot_ball_percentage = (dot_balls / total_deliveries) * 100\n",
                "  ) |>\n",
                "  ungroup() |>\n",
                "  mutate(season.x = factor(season.x, levels = unique(season.x))) |>\n",
                "  arrange(season.x) \n",
                "\n",
                "ggplot(dot_ball_percentage, aes(x = season.x, y = dot_ball_percentage, group = 1)) +\n",
                "  geom_line() +  # Ensure a single group for connecting lines\n",
                "  geom_point() +\n",
                "  labs(title = \"Dot Ball Percentage Over Seasons\", x = \"Season\", y = \"Dot Ball Percentage\") +\n",
                "  theme_minimal()\n"
            ]
        },
        {
            "cell_type": "markdown",
            "metadata": {},
            "source": "\n"
        },
        {
            "cell_type": "code",
            "execution_count": null,
            "metadata": {},
            "outputs": [],
            "source": [
                "Merged_Data <- Merged_Data |>\n",
                "  mutate(chasing_win = ifelse(winner == team2, 1, 0))\n",
                "\n",
                "# Now calculate win percentages for teams chasing, grouped by season\n",
                "win_percentage_by_season <- Merged_Data |>\n",
                "  group_by(season.x) |>\n",
                "  summarise(total_matches = n(),\n",
                "            chasing_wins = sum(chasing_win, na.rm = TRUE),  # Ensure NA values are handled\n",
                "            win_percentage = (chasing_wins / total_matches) * 100) |>\n",
                "  ungroup()  # Ungroup to ensure further operations aren't affected by grouping\n",
                "\n",
                "# Visualize win percentage for teams chasing over seasons\n",
                "ggplot(win_percentage_by_season, aes(x = season.x, y = win_percentage, fill = season.x)) +\n",
                "  geom_bar(stat = \"identity\", width = 0.7) +  # Bar chart with slightly reduced bar width for clarity\n",
                "  labs(title = \"Win Percentage for Teams Chasing\",\n",
                "       x = \"Season\", y = \"Win Percentage\") +\n",
                "  theme_minimal() +\n",
                "  theme(axis.text.x = element_text(angle = 45, hjust = 1),  # Rotate x-axis labels for better readability\n",
                "        legend.position = \"none\")\n"
            ]
        },
        {
            "cell_type": "markdown",
            "metadata": {},
            "source": [
                "# Models / Hypothesis\n",
                "\n"
            ]
        },
        {
            "cell_type": "code",
            "execution_count": null,
            "metadata": {},
            "outputs": [],
            "source": [
                "# Logistic regression model\n",
                "# Fit the logistic regression model using only boundary_ball_percentage\n",
                "model <- glm(win ~ boundary_ball_percentage, data = Run_Percentage, family = \"binomial\")\n",
                "\n",
                "# Summary of the model\n",
                "summary(model)\n"
            ]
        },
        {
            "cell_type": "markdown",
            "metadata": {},
            "source": "\n"
        },
        {
            "cell_type": "code",
            "execution_count": null,
            "metadata": {},
            "outputs": [],
            "source": [
                "boundary_seq <- seq(min(Run_Percentage$boundary_ball_percentage, na.rm = TRUE), \n",
                "                    max(Run_Percentage$boundary_ball_percentage, na.rm = TRUE), length = 100)\n",
                "\n",
                "pred_data <- data.frame(boundary_ball_percentage = boundary_seq)\n",
                "pred_data$win_prob <- predict(model, newdata = pred_data, type = \"response\")\n",
                "\n",
                "ggplot(pred_data, aes(x = boundary_ball_percentage, y = win_prob)) +\n",
                "  geom_line() +\n",
                "  labs(title = \"Win Probability vs. Boundary Ball Percentage\",\n",
                "       x = \"Boundary Ball Percentage\", y = \"Probability of Winning\") +\n",
                "  theme_minimal()\n"
            ]
        }
    ],
    "metadata": {
        "anaconda-cloud": "",
        "kernelspec": {
            "display_name": "R",
            "langauge": "R",
            "name": "ir"
        },
        "language_info": {
            "codemirror_mode": "r",
            "file_extension": ".r",
            "mimetype": "text/x-r-source",
            "name": "R",
            "pygments_lexer": "r",
            "version": "3.4.1"
        }
    },
    "nbformat": 4,
    "nbformat_minor": 1
}
